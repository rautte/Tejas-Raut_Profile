{
  "nbformat": 4,
  "nbformat_minor": 0,
  "metadata": {
    "colab": {
      "provenance": []
    },
    "kernelspec": {
      "name": "python3",
      "display_name": "Python 3"
    },
    "language_info": {
      "name": "python"
    }
  },
  "cells": [
    {
      "cell_type": "markdown",
      "source": [
        "Add 2 numbers if their product is greater than 1000, else multiply"
      ],
      "metadata": {
        "id": "pIAw-a10ceiU"
      }
    },
    {
      "cell_type": "code",
      "execution_count": null,
      "metadata": {
        "colab": {
          "base_uri": "https://localhost:8080/"
        },
        "id": "n7VZmciLpU3W",
        "outputId": "0ef24f55-8056-4372-d501-1d893096220c"
      },
      "outputs": [
        {
          "output_type": "stream",
          "name": "stdout",
          "text": [
            "Enter the 1st number here: 100\n",
            "Enter the 2nd number here: 11\n",
            "111\n"
          ]
        }
      ],
      "source": [
        "a = int(input('Enter the 1st number here: '))\n",
        "b = int(input('Enter the 2nd number here: '))\n",
        "\n",
        "if a*b <= 1000:\n",
        "  print(int(a*b))\n",
        "else:\n",
        "  print(int(a+b))"
      ]
    },
    {
      "cell_type": "markdown",
      "source": [
        "For all the elements in a given range, show the current number, previous number, and continuous summation."
      ],
      "metadata": {
        "id": "wnLlSrg7c-XI"
      }
    },
    {
      "cell_type": "code",
      "source": [
        "n = 10\n",
        "\n",
        "print('Printing current and previous number sum in a range(10)')\n",
        "print('Current Number ' + str(0) + ' Previous Number ' + str(0) + ' Sum ' + str(0))\n",
        "for i in range(1,n):\n",
        "  print('Current Number ' + str(i) + ' Previous Number ' + str(i-1) + ' Sum ' + str((2*i)-1))"
      ],
      "metadata": {
        "colab": {
          "base_uri": "https://localhost:8080/"
        },
        "id": "zltmGQtyqkOQ",
        "outputId": "e0da686f-0906-4b68-a736-48cabc4543fc"
      },
      "execution_count": null,
      "outputs": [
        {
          "output_type": "stream",
          "name": "stdout",
          "text": [
            "Printing current and previous number sum in a range(10)\n",
            "Current Number 0 Previous Number 0 Sum 0\n",
            "Current Number 1 Previous Number 0 Sum 1\n",
            "Current Number 2 Previous Number 1 Sum 3\n",
            "Current Number 3 Previous Number 2 Sum 5\n",
            "Current Number 4 Previous Number 3 Sum 7\n",
            "Current Number 5 Previous Number 4 Sum 9\n",
            "Current Number 6 Previous Number 5 Sum 11\n",
            "Current Number 7 Previous Number 6 Sum 13\n",
            "Current Number 8 Previous Number 7 Sum 15\n",
            "Current Number 9 Previous Number 8 Sum 17\n"
          ]
        }
      ]
    },
    {
      "cell_type": "markdown",
      "source": [
        "Show only the letters at all the odd positions in a given string (not the index position)."
      ],
      "metadata": {
        "id": "h_uCVW0QdjU_"
      }
    },
    {
      "cell_type": "code",
      "source": [
        "word = str(input('Enter the word here: '))\n",
        "length = int(len(word))\n",
        "\n",
        "for i in range(length):\n",
        "  if i%2 == 0:\n",
        "    print(word[i])\n",
        "  else:\n",
        "    pass"
      ],
      "metadata": {
        "colab": {
          "base_uri": "https://localhost:8080/"
        },
        "id": "vshFPx52t-W4",
        "outputId": "53f879a0-639b-4444-d80f-b791e11dba97"
      },
      "execution_count": null,
      "outputs": [
        {
          "output_type": "stream",
          "name": "stdout",
          "text": [
            "Enter the word here: tejasraut\n",
            "t\n",
            "j\n",
            "s\n",
            "a\n",
            "t\n"
          ]
        }
      ]
    },
    {
      "cell_type": "markdown",
      "source": [
        "For a given word and a number n, show the remaining part of the word after n letters."
      ],
      "metadata": {
        "id": "6EPBTv_bejzq"
      }
    },
    {
      "cell_type": "code",
      "source": [
        "word = str(input('Enter the word here: '))\n",
        "num = int(input('Enter the number here: '))\n",
        "\n",
        "if num < len(word):\n",
        "  print('The remaining word is: ' + word[num:])\n",
        "else:\n",
        "  print(\"The number exceeds the word's character limit\")"
      ],
      "metadata": {
        "colab": {
          "base_uri": "https://localhost:8080/"
        },
        "id": "FIeYhGouwNxD",
        "outputId": "0e914d40-6626-43d4-d07b-e90c8c0840b0"
      },
      "execution_count": null,
      "outputs": [
        {
          "output_type": "stream",
          "name": "stdout",
          "text": [
            "Enter the word here: Rajendra\n",
            "Enter the number here: 5\n",
            "The remaining word is: dra\n"
          ]
        }
      ]
    },
    {
      "cell_type": "markdown",
      "source": [
        "Check if the given lists have the same first and last elements. Show which one is true and False."
      ],
      "metadata": {
        "id": "5ZtO2WLzfswf"
      }
    },
    {
      "cell_type": "code",
      "source": [
        "def if_true():\n",
        "\n",
        "  num_lists = int(input('Enter the number of lists to be made here : '))\n",
        "\n",
        "  lists = []\n",
        "\n",
        "  for i in range(num_lists):\n",
        "    print(' ')\n",
        "    list_ = []\n",
        "    list_len = int(input('Enter the length of list ' + str(i+1) + ' here : '))\n",
        "    for j in range(list_len):\n",
        "      lists_mem = int(input('Enter the member of list ' + str(i+1) + ' here : '))\n",
        "      list_.append(lists_mem)\n",
        "    lists.append(list_)\n",
        "\n",
        "  print(' ')\n",
        "\n",
        "  for i in range(num_lists):\n",
        "    print('List ' + str(i+1))\n",
        "    print(lists[i][:])\n",
        "    print(' ')\n",
        "\n",
        "  for i in range(num_lists):\n",
        "    if lists[i][0] == lists[i][-1]:\n",
        "      print('List ' + str(i+1) + ' is True')\n",
        "    else:\n",
        "      print('List ' + str(i+1) + ' is False')\n",
        "\n",
        "if_true()"
      ],
      "metadata": {
        "colab": {
          "base_uri": "https://localhost:8080/"
        },
        "id": "fH8TK8j8yG3H",
        "outputId": "583ae2ba-b8ff-4f8c-f360-7e62723f4f8d"
      },
      "execution_count": null,
      "outputs": [
        {
          "output_type": "stream",
          "name": "stdout",
          "text": [
            "Enter the number of lists to be made here : 3\n",
            " \n",
            "Enter the length of list 1 here : 2\n",
            "Enter the member of list 1 here : 1\n",
            "Enter the member of list 1 here : 2\n",
            " \n",
            "Enter the length of list 2 here : 3\n",
            "Enter the member of list 2 here : 3\n",
            "Enter the member of list 2 here : 4\n",
            "Enter the member of list 2 here : 3\n",
            " \n",
            "Enter the length of list 3 here : 4\n",
            "Enter the member of list 3 here : 5\n",
            "Enter the member of list 3 here : 6\n",
            "Enter the member of list 3 here : 7\n",
            "Enter the member of list 3 here : 8\n",
            " \n",
            "List 1\n",
            "[1, 2]\n",
            " \n",
            "List 2\n",
            "[3, 4, 3]\n",
            " \n",
            "List 3\n",
            "[5, 6, 7, 8]\n",
            " \n",
            "List 1 is False\n",
            "List 2 is True\n",
            "List 3 is False\n"
          ]
        }
      ]
    },
    {
      "cell_type": "markdown",
      "source": [
        "For a given list of numbers, show the ones divisible by 5."
      ],
      "metadata": {
        "id": "tGskjllHgI0m"
      }
    },
    {
      "cell_type": "code",
      "source": [
        "def div_5():\n",
        "\n",
        "  list_len = int(input('Enter the length of the list here: '))\n",
        "  print(' ')\n",
        "  list_in = []\n",
        "\n",
        "  for i in range(list_len):\n",
        "    list_mem = int(input('Enter the member of list here: '))\n",
        "    list_in.append(list_mem)\n",
        "\n",
        "  print(' ')\n",
        "\n",
        "  for i in range(list_len):\n",
        "    if list_in[i]%5 == 0:\n",
        "      print(list_in[i])\n",
        "    else:\n",
        "      pass\n",
        "\n",
        "div_5()"
      ],
      "metadata": {
        "colab": {
          "base_uri": "https://localhost:8080/"
        },
        "id": "TOkU6_S0JA7C",
        "outputId": "a571932a-d192-49bc-b36e-aa691e6d270e"
      },
      "execution_count": null,
      "outputs": [
        {
          "output_type": "stream",
          "name": "stdout",
          "text": [
            "Enter the length of the list here: 5\n",
            " \n",
            "Enter the member of list here: 12\n",
            "Enter the member of list here: 35\n",
            "Enter the member of list here: 65\n",
            "Enter the member of list here: 76\n",
            "Enter the member of list here: 60\n",
            " \n",
            "35\n",
            "65\n",
            "60\n"
          ]
        }
      ]
    },
    {
      "cell_type": "markdown",
      "source": [
        "In any given sentence, show the most frequently occured word. For it to be a word, there should be minimum of 3 letters in it with no special character values."
      ],
      "metadata": {
        "id": "d0TalhMhgYOu"
      }
    },
    {
      "cell_type": "code",
      "source": [
        "from collections import Counter\n",
        "import string\n",
        "\n",
        "text = str(input('Enter your text here: '))\n",
        "print(' ')\n",
        "text.split()\n",
        "rough = len([word.strip(string.punctuation) for word in text.split()])\n",
        "\n",
        "words = []\n",
        "\n",
        "for i in range(rough):\n",
        "  each_word = [word.strip(string.punctuation) for word in text.split()][i].split('-')\n",
        "  words.extend(each_word)\n",
        "\n",
        "counts = Counter(words)\n",
        "counts_dict = dict(counts)\n",
        "print('Dictionary of words in the text with its frequency: ')\n",
        "print(counts_dict)\n",
        "print(' ')\n",
        "\n",
        "selected_words = []\n",
        "\n",
        "for words, frequency in counts_dict.items():\n",
        "    if len(words) > 2:\n",
        "        selected_words.append((words, frequency))\n",
        "\n",
        "if selected_words:\n",
        "    max_frequency = max(selected_words, key = lambda x: x[1])[1]\n",
        "    max_frequency_words = [word for word, frequency in selected_words if frequency == max_frequency]\n",
        "    print('The word(s) that repeated the most times and their frequency is/are:')\n",
        "    for word in max_frequency_words:\n",
        "        print(f\"{word}: {max_frequency}\")\n",
        "else:\n",
        "    print('No words with a length greater than 2 characters found in the dictionary.')"
      ],
      "metadata": {
        "colab": {
          "base_uri": "https://localhost:8080/"
        },
        "id": "UemF7ipkM1M5",
        "outputId": "0c89e436-eca2-4cd0-ae71-85da6870dc58"
      },
      "execution_count": null,
      "outputs": [
        {
          "output_type": "stream",
          "name": "stdout",
          "text": [
            "Enter your text here: Sakshi loves Tejas a lot. Tejas is the best and he is so good looking. Tejas is the best man on the universe. Wowwww!!!\n",
            " \n",
            "Dictionary of words in the text with its frequency: \n",
            "{'Sakshi': 1, 'loves': 1, 'Tejas': 3, 'a': 1, 'lot': 1, 'is': 3, 'the': 3, 'best': 2, 'and': 1, 'he': 1, 'so': 1, 'good': 1, 'looking': 1, 'man': 1, 'on': 1, 'universe': 1, 'Wowwww': 1}\n",
            " \n",
            "The word(s) that repeated the most times and their frequency is/are:\n",
            "Tejas: 3\n",
            "the: 3\n"
          ]
        }
      ]
    },
    {
      "cell_type": "markdown",
      "source": [
        "Form a right angled iscoseles triangle with the length as any number n."
      ],
      "metadata": {
        "id": "ocvvTuIBg8Tr"
      }
    },
    {
      "cell_type": "code",
      "source": [
        "len_tri = int(input('Enter the length of triangle here: '))\n",
        "\n",
        "for i in range(1,len_tri+1):\n",
        "  for j in range(i):\n",
        "    print(i, end = \" \")\n",
        "  print(\" \")"
      ],
      "metadata": {
        "colab": {
          "base_uri": "https://localhost:8080/"
        },
        "id": "IzqOIC_-d3fY",
        "outputId": "5d1a7128-9cef-4ab7-86f2-9d5af169e21c"
      },
      "execution_count": null,
      "outputs": [
        {
          "output_type": "stream",
          "name": "stdout",
          "text": [
            "Enter the length of triangle here: 5\n",
            "1  \n",
            "2 2  \n",
            "3 3 3  \n",
            "4 4 4 4  \n",
            "5 5 5 5 5  \n"
          ]
        }
      ]
    },
    {
      "cell_type": "markdown",
      "source": [
        "Check weather a given number is a palandrome number or not."
      ],
      "metadata": {
        "id": "ZXUfjgpthSIw"
      }
    },
    {
      "cell_type": "code",
      "source": [
        "num = str(input('Enter your number here: '))\n",
        "print(' ')\n",
        "\n",
        "ln = int(len(num))\n",
        "\n",
        "for i in range(ln//2):\n",
        "  if num[i] != num[-i-1]:\n",
        "    print('Sorry! The number ' + str(num) + ' is not a palindrome number')\n",
        "    break\n",
        "  elif i == ln//2 - 1:\n",
        "    print('Yes! The number ' + str(num) + ' is a palindrome number')\n",
        "  else:\n",
        "    pass\n"
      ],
      "metadata": {
        "colab": {
          "base_uri": "https://localhost:8080/"
        },
        "id": "Hw04MOD_Ii6M",
        "outputId": "da4ea990-5d67-4123-ae90-4acdd3c6ad5f"
      },
      "execution_count": null,
      "outputs": [
        {
          "output_type": "stream",
          "name": "stdout",
          "text": [
            "Enter your number here: 1234\n",
            " \n",
            "Sorry! The number 1234 is not a palindrome number\n"
          ]
        }
      ]
    },
    {
      "cell_type": "markdown",
      "source": [
        "For 2 lists, show odd numbers from list 1 and even numbers from list 2 in a single result list."
      ],
      "metadata": {
        "id": "OF5EHiFJhaa6"
      }
    },
    {
      "cell_type": "code",
      "source": [
        "num_lists = 2\n",
        "\n",
        "lists = []\n",
        "result_list = []\n",
        "\n",
        "for i in range(num_lists):\n",
        "  print(' ')\n",
        "  list_ = []\n",
        "  list_len = int(input('Enter the length of list ' + str(i+1) + ' here : '))\n",
        "  for j in range(list_len):\n",
        "    lists_mem = int(input('Enter the member of list ' + str(i+1) + ' here : '))\n",
        "    list_.append(lists_mem)\n",
        "  lists.append(list_)\n",
        "\n",
        "print(' ')\n",
        "\n",
        "for i in range(num_lists):\n",
        "  for j in range(len(lists[i][:])):\n",
        "    if i == 0 and lists[i][j] % 2 != 0:\n",
        "      result_list.append(lists[i][j])\n",
        "    elif i == 1 and lists[i][j] % 2 == 0:\n",
        "      result_list.append(lists[i][j])\n",
        "    else:\n",
        "      pass\n",
        "\n",
        "print('The result list contains odd numbers from list 1 and even numbers from list 2')\n",
        "print(result_list)"
      ],
      "metadata": {
        "colab": {
          "base_uri": "https://localhost:8080/"
        },
        "id": "mch8G-vm_aS_",
        "outputId": "822dce0e-3f4f-4b4e-e199-20105b83675d"
      },
      "execution_count": null,
      "outputs": [
        {
          "output_type": "stream",
          "name": "stdout",
          "text": [
            " \n",
            "Enter the length of list 1 here : 4\n",
            "Enter the member of list 1 here : 34\n",
            "Enter the member of list 1 here : 45\n",
            "Enter the member of list 1 here : 56\n",
            "Enter the member of list 1 here : 67\n",
            " \n",
            "Enter the length of list 2 here : 5\n",
            "Enter the member of list 2 here : 24\n",
            "Enter the member of list 2 here : 46\n",
            "Enter the member of list 2 here : 56\n",
            "Enter the member of list 2 here : 67\n",
            "Enter the member of list 2 here : 89\n",
            " \n",
            "[45, 67, 24, 46, 56]\n"
          ]
        }
      ]
    },
    {
      "cell_type": "markdown",
      "source": [
        "For a given number, print the number in reverse order with a gap between every individual number."
      ],
      "metadata": {
        "id": "5JgFUjQvhw7D"
      }
    },
    {
      "cell_type": "code",
      "source": [
        "num = int(input('Enter your number here: '))\n",
        "length = len(str(num))\n",
        "#result = []\n",
        "print(' ')\n",
        "\n",
        "for i in range(length):\n",
        "  print(str(num)[-i-1],end = ' ')"
      ],
      "metadata": {
        "colab": {
          "base_uri": "https://localhost:8080/"
        },
        "id": "JjjtP8nHCPG4",
        "outputId": "ee74132e-aa91-45cc-8692-054eb5e2ee51"
      },
      "execution_count": null,
      "outputs": [
        {
          "output_type": "stream",
          "name": "stdout",
          "text": [
            "Enter your number here: 23456789\n",
            " \n",
            "9 8 7 6 5 4 3 2 "
          ]
        }
      ]
    },
    {
      "cell_type": "markdown",
      "source": [
        "Calculate tax for any given income for any tax table mentioned. Throw an error for any edge case found."
      ],
      "metadata": {
        "id": "3b1IBE5ziLcL"
      }
    },
    {
      "cell_type": "code",
      "source": [
        "import numpy as np\n",
        "import pandas as pd\n",
        "\n",
        "def error():\n",
        "  print('ERROR!!!', '\\n')\n",
        "  print('Please check the taxable income again: ')\n",
        "  print(tax_inc, '\\n')\n",
        "  print('Please check the percentages again: ')\n",
        "  print(tax_per_bound[1], '\\n')\n",
        "  print('Please check the boundaries again: ')\n",
        "  print(tax_per_bound[2], '\\n')\n",
        "\n",
        "tax_inc = int(input('Enter the taxable income here: '))\n",
        "\n",
        "num_lists = 2\n",
        "name = ['percentages', 'boundaries']\n",
        "tax_per_bound = [[0]]\n",
        "\n",
        "for i in range(num_lists):\n",
        "    print(' ')\n",
        "    list_ = []\n",
        "    list_len = int(input('Enter the total number of ' + name[i] + ' here: '))\n",
        "    for j in range(list_len):\n",
        "        if i == 0:\n",
        "            lists_mem = float(input('Please provide entry ' + str(j + 1) + ' (in percentage) over here: '))\n",
        "            list_.append(lists_mem / 100)\n",
        "        else:\n",
        "            lists_mem = float(input('Please provide entry ' + str(j + 1) + ' over here: '))\n",
        "            list_.append(lists_mem)\n",
        "    tax_per_bound.append(list_)\n",
        "\n",
        "print(' ')\n",
        "tp = np.array(tax_per_bound[1])\n",
        "tb = np.array(tax_per_bound[2])\n",
        "print(tax_per_bound[1:])\n",
        "\n",
        "per_len = len(tax_per_bound[1])\n",
        "bound_len = len(tax_per_bound[2])\n",
        "print(' ')\n",
        "\n",
        "if tax_inc > 0 and tb.all() > 0 and per_len <= bound_len + 1:\n",
        "\n",
        "    inc_coef = []\n",
        "    if tax_per_bound[2][-1] >= tax_inc:\n",
        "      if bound_len < per_len:\n",
        "        error()\n",
        "      else:\n",
        "        for i in range(bound_len):\n",
        "          if i == 0 and tax_inc >= tb[i]:\n",
        "            inc_coef.append(tb[i])\n",
        "          else:\n",
        "            if tax_inc >= tb[i]:\n",
        "              inc_coef.append(tb[i] - tb[i - 1])\n",
        "            else:\n",
        "              inc_coef.append(tb[i] - tax_inc)\n",
        "              break\n",
        "    else:\n",
        "      if bound_len < per_len:\n",
        "        for i in range(bound_len + 1):\n",
        "          if i == 0 and tax_inc >= tb[i]:\n",
        "            inc_coef.append(tb[i])\n",
        "          elif i in range(1,bound_len):\n",
        "            if tax_inc >= tb[i]:\n",
        "              inc_coef.append(tb[i] - tb[i - 1])\n",
        "            else:\n",
        "              inc_coef.append(tax_inc - tb[i - 1])\n",
        "          else:\n",
        "            inc_coef.append(tax_inc - tb[i - 1])\n",
        "\n",
        "      else:\n",
        "        for i in range(bound_len):\n",
        "          if i == 0 and tax_inc >= tb[i]:\n",
        "            inc_coef.append(tb[i])\n",
        "          elif i in range(1,bound_len - 1):\n",
        "            if tax_inc >= tb[i]:\n",
        "              inc_coef.append(tb[i] - tb[i - 1])\n",
        "          else:\n",
        "            inc_coef.append((tax_inc - tb[i]) + (tb[i] - tb[i - 1]))\n",
        "            break\n",
        "\n",
        "    if per_len <= bound_len:\n",
        "      df_inc_coef = pd.DataFrame(inc_coef)\n",
        "      last_value = tax_per_bound[1][-1]\n",
        "      df_per_mul = pd.DataFrame(tax_per_bound[1])\n",
        "      for i in range(bound_len - per_len):\n",
        "        df_per_mul.loc[len(df_per_mul.index)] = [last_value]\n",
        "\n",
        "    else:\n",
        "      df_inc_coef = pd.DataFrame(inc_coef)\n",
        "      df_per_mul = pd.DataFrame(tax_per_bound[1])\n",
        "\n",
        "    tax_amount = (df_inc_coef * df_per_mul).sum()[0]\n",
        "    dummy = tax_per_bound[1][-1]\n",
        "    if bound_len > per_len:\n",
        "      for i in range(bound_len - per_len):\n",
        "        tax_per_bound[1].append(dummy)\n",
        "    else:\n",
        "      pass\n",
        "\n",
        "    if bound_len > per_len or tax_inc < tax_per_bound[2][-1] or (tax_inc > tax_per_bound[2][-1] and bound_len == per_len):\n",
        "      if bound_len == 1:\n",
        "        print(f\"Tax calculated: {df_inc_coef.loc[0][0]} * {tax_per_bound[1][0]}% = {tax_amount}\")\n",
        "      elif bound_len == 2:\n",
        "        print(f\"Tax calculated: {df_inc_coef.loc[0][0]} * {tax_per_bound[1][0]}% + {df_inc_coef.loc[1][0]} * {tax_per_bound[1][1]}% = {tax_amount}\")\n",
        "      elif bound_len == 3:\n",
        "        print(f\"Tax calculated: {df_inc_coef.loc[0][0]} * {tax_per_bound[1][0]}% + {df_inc_coef.loc[1][0]} * {tax_per_bound[1][1]}% + {df_inc_coef.loc[2][0]} * {tax_per_bound[1][2]}% = {tax_amount}\")\n",
        "      elif bound_len == 4:\n",
        "        print(f\"Tax calculated: {df_inc_coef.loc[0][0]} * {tax_per_bound[1][0]}% + {df_inc_coef.loc[1][0]} * {tax_per_bound[1][1]}% + {df_inc_coef.loc[2][0]} * {tax_per_bound[1][2]}% + {df_inc_coef.loc[3][0]} * {tax_per_bound[1][3]}% = {tax_amount}\")\n",
        "      elif bound_len == 5:\n",
        "        print(f\"Tax calculated: {df_inc_coef.loc[0][0]} * {tax_per_bound[1][0]}% + {df_inc_coef.loc[1][0]} * {tax_per_bound[1][1]}% + {df_inc_coef.loc[2][0]} * {tax_per_bound[1][2]}% + {df_inc_coef.loc[3][0]} * {tax_per_bound[1][3]}% + {df_inc_coef.loc[4][0]} * {tax_per_bound[1][4]}% = {tax_amount}\")\n",
        "      else:\n",
        "        print(f\"Tax calculated: {tax_amount}\")\n",
        "\n",
        "    else:\n",
        "      if bound_len == 1:\n",
        "        print(f\"Tax calculated: {df_inc_coef.loc[0][0]} * {tax_per_bound[1][0]}% + {df_inc_coef.loc[1][0]} * {tax_per_bound[1][1]}% = {tax_amount}\")\n",
        "      elif bound_len == 2:\n",
        "        print(f\"Tax calculated: {df_inc_coef.loc[0][0]} * {tax_per_bound[1][0]}% + {df_inc_coef.loc[1][0]} * {tax_per_bound[1][1]}% + {df_inc_coef.loc[2][0]} * {tax_per_bound[1][2]}% = {tax_amount}\")\n",
        "      elif bound_len == 3:\n",
        "        print(f\"Tax calculated: {df_inc_coef.loc[0][0]} * {tax_per_bound[1][0]}% + {df_inc_coef.loc[1][0]} * {tax_per_bound[1][1]}% + {df_inc_coef.loc[2][0]} * {tax_per_bound[1][2]}% + {df_inc_coef.loc[3][0]} * {tax_per_bound[1][3]}% = {tax_amount}\")\n",
        "      elif bound_len == 4:\n",
        "        print(f\"Tax calculated: {df_inc_coef.loc[0][0]} * {tax_per_bound[1][0]}% + {df_inc_coef.loc[1][0]} * {tax_per_bound[1][1]}% + {df_inc_coef.loc[2][0]} * {tax_per_bound[1][2]}% + {df_inc_coef.loc[3][0]} * {tax_per_bound[1][3]}% + {df_inc_coef.loc[4][0]} * {tax_per_bound[1][4]}% = {tax_amount}\")\n",
        "      elif bound_len == 5:\n",
        "        print(f\"Tax calculated: {df_inc_coef.loc[0][0]} * {tax_per_bound[1][0]}% + {df_inc_coef.loc[1][0]} * {tax_per_bound[1][1]}% + {df_inc_coef.loc[2][0]} * {tax_per_bound[1][2]}% + {df_inc_coef.loc[3][0]} * {tax_per_bound[1][3]}% + {df_inc_coef.loc[4][0]} * {tax_per_bound[1][4]}% + {df_inc_coef.loc[5][0]} * {tax_per_bound[1][5]}% = {tax_amount}\")\n",
        "      else:\n",
        "        print(f\"Tax calculated: {tax_amount}\")\n",
        "\n",
        "else:\n",
        "    error()\n"
      ],
      "metadata": {
        "colab": {
          "base_uri": "https://localhost:8080/"
        },
        "id": "YUrsKvt8rR2e",
        "outputId": "49bd60be-f89a-4cf2-aec0-54a5885678cb"
      },
      "execution_count": null,
      "outputs": [
        {
          "output_type": "stream",
          "name": "stdout",
          "text": [
            "Enter the taxable income here: 5000\n",
            " \n",
            "Enter the total number of percentages here: 2\n",
            "Please provide entry 1 (in percentage) over here: 2\n",
            "Please provide entry 2 (in percentage) over here: 3\n",
            " \n",
            "Enter the total number of boundaries here: 3\n",
            "Please provide entry 1 over here: 1000\n",
            "Please provide entry 2 over here: 2000\n",
            "Please provide entry 3 over here: 4000\n",
            " \n",
            "[[0.02, 0.03], [1000.0, 2000.0, 4000.0]]\n",
            " \n",
            "Tax calculated: 1000.0 * 0.02% + 1000.0 * 0.03% + 3000.0 * 0.03% = 140.0\n"
          ]
        }
      ]
    },
    {
      "cell_type": "markdown",
      "source": [
        "Show the longest running prefix in any given list of words."
      ],
      "metadata": {
        "id": "1ki4XcmsivrT"
      }
    },
    {
      "cell_type": "code",
      "source": [
        "strs = []\n",
        "\n",
        "words = int(input('Enter the number of words here: '))\n",
        "print(' ')\n",
        "for i in range(words):\n",
        "  word = str(input(f\"Enter word '{i + 1}' here : \"))\n",
        "  strs.append(word)\n",
        "print(' ')\n",
        "\n",
        "d = {}\n",
        "min_length = float('inf')\n",
        "\n",
        "for s in strs:\n",
        "    if len(s) < min_length:\n",
        "        min_length = len(s)\n",
        "\n",
        "#print(min_length, '\\n')\n",
        "\n",
        "for i in range(len(strs)):\n",
        "  for j in range(len(strs)):\n",
        "    for k in range(2, min_length):\n",
        "      if strs[i][0:k] == strs[j][0:k] and j > i and strs[i][0:k] in d and i == 0:\n",
        "        d[strs[i][0:k]] += 1\n",
        "      elif strs[i][0:k] == strs[j][0:k] and j > i and i == 0:\n",
        "        d.update({strs[i][0:k]: 1})\n",
        "      elif strs[i][0:k] == strs[j][0:k] and j > i and strs[i][0:k] in d:\n",
        "        pass\n",
        "      elif strs[i][0:k] == strs[j][0:k] and j > i:\n",
        "        d.update({strs[i][0:k]: 1})\n",
        "      else:\n",
        "        pass\n",
        "\n",
        "for i in range(len(d)):\n",
        "  d[list(d.keys())[i]] += 1\n",
        "\n",
        "d2 = {}\n",
        "for k, v in d.items():\n",
        "  if d[k] == max(list(d.values())):\n",
        "    d2.update({k: len(k)})\n",
        "  else:\n",
        "    pass\n",
        "\n",
        "print('Longest running prefix(es) and its frequency: ')\n",
        "print(d, '\\n')\n",
        "#print(d2, '\\n')\n",
        "\n",
        "if len(d) > 0:\n",
        "  for k, v in d2.items():\n",
        "    if d2[k] == max(list(d2.values())):\n",
        "      print('Longest running prefix in all the words is: ')\n",
        "      print(f\"'{k}'\")\n",
        "      print(' ')\n",
        "    else:\n",
        "      pass\n",
        "#    break\n",
        "else:\n",
        "  print(\"\")"
      ],
      "metadata": {
        "colab": {
          "base_uri": "https://localhost:8080/"
        },
        "id": "PbRFjfR7r8xW",
        "outputId": "f1255d87-a9ed-4082-dd0f-676ffce3a7a2"
      },
      "execution_count": null,
      "outputs": [
        {
          "output_type": "stream",
          "name": "stdout",
          "text": [
            "Enter the number of words here: 5\n",
            " \n",
            "Enter word '1' here : snake\n",
            "Enter word '2' here : snack\n",
            "Enter word '3' here : snail\n",
            "Enter word '4' here : snap\n",
            "Enter word '5' here : snappy \n",
            " \n",
            "Recuring prefix and its frequency: \n",
            "{'sn': 5, 'sna': 5} \n",
            "\n",
            "Longest running prefix in all the words is: \n",
            "'sna'\n",
            " \n"
          ]
        }
      ]
    },
    {
      "cell_type": "markdown",
      "source": [
        "For an equal length of 2 lists containing corresponding weights and profits, show the maximum profit that can be earned knowing that the summation of selected weights cannot exceed the value of the given capacity."
      ],
      "metadata": {
        "id": "vPhLiIpNjMqm"
      }
    },
    {
      "cell_type": "code",
      "source": [
        "def knapsack(weights, profits, capacity):\n",
        "    n = len(weights)\n",
        "\n",
        "    # Initialize a 2D array to store the results of subproblems\n",
        "    dp = [[0] * (capacity + 1) for _ in range(n + 1)]\n",
        "\n",
        "    # Initialize a list to track selected weights\n",
        "    selected_weights = [[] for _ in range(n + 1)]\n",
        "\n",
        "    # Fill the dp array and track selected weights\n",
        "    for i in range(1, n + 1):\n",
        "        for w in range(1, capacity + 1):\n",
        "            # If the current item can fit into the remaining capacity\n",
        "            if weights[i - 1] <= w:\n",
        "                # Choose the maximum value between including or excluding the current item\n",
        "                if profits[i - 1] + dp[i - 1][w - weights[i - 1]] > dp[i - 1][w]:\n",
        "                    dp[i][w] = profits[i - 1] + dp[i - 1][w - weights[i - 1]]\n",
        "                    selected_weights[i] = selected_weights[i - 1] + [weights[i - 1]]\n",
        "                else:\n",
        "                    dp[i][w] = dp[i - 1][w]\n",
        "                    selected_weights[i] = selected_weights[i - 1]\n",
        "            else:\n",
        "                # If the current item is too heavy, exclude it\n",
        "                dp[i][w] = dp[i - 1][w]\n",
        "                selected_weights[i] = selected_weights[i - 1]\n",
        "\n",
        "    # Trace back to get the optimal weights within the specified capacity\n",
        "    optimal_weights = selected_weights[n]\n",
        "    while sum(optimal_weights) > capacity:\n",
        "        optimal_weights.pop()\n",
        "\n",
        "    # The maximum profit is stored in the bottom-right cell of the dp array\n",
        "    return dp[n][capacity], optimal_weights\n",
        "\n",
        "# Example usage\n",
        "weights = [1, 2, 3, 4, 5]\n",
        "profits = [1, 10, 4, 5, 7]\n",
        "capacity = 8\n",
        "\n",
        "max_profit, optimal_weights = knapsack(weights, profits, capacity)\n",
        "print(\"Maximum Profit:\", max_profit)\n"
      ],
      "metadata": {
        "colab": {
          "base_uri": "https://localhost:8080/"
        },
        "id": "1UDHPycJGA5q",
        "outputId": "e80a23f4-0f8b-48cc-9d5a-00e65f4e1eaa"
      },
      "execution_count": 3,
      "outputs": [
        {
          "output_type": "stream",
          "name": "stdout",
          "text": [
            "Maximum Profit: 18\n"
          ]
        }
      ]
    }
  ]
}